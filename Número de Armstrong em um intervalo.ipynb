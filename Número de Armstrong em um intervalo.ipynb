{
 "cells": [
  {
   "cell_type": "markdown",
   "metadata": {},
   "source": [
    "# Mostrar os números de Armstrong em um intervalo."
   ]
  },
  {
   "cell_type": "code",
   "execution_count": 16,
   "metadata": {},
   "outputs": [
    {
     "name": "stdout",
     "output_type": "stream",
     "text": [
      "Digite o número inferior: 0\n",
      "Digite o número superior: 1000000\n",
      "\n",
      "Os números de Armstrong são: \n",
      "0  1  2  3  4  5  6  7  8  9  153  370  371  407  1634  8208  9474  54748  92727  93084  548834  "
     ]
    }
   ],
   "source": [
    "inferior = int(input(\"Digite o número inferior: \"))\n",
    "superior = int(input(\"Digite o número superior: \"))\n",
    "\n",
    "print()\n",
    "\n",
    "print(\"Os números de Armstrong são: \")\n",
    "\n",
    "for numero in range(inferior, superior + 1):\n",
    "    ordem = len(str(numero))                  # Ordem dos números.\n",
    "    soma = 0                                  # Inicia a soma.\n",
    "    temp = numero\n",
    "    \n",
    "    while temp > 0:\n",
    "        digito = temp % 10\n",
    "        soma += digito ** ordem\n",
    "        temp //= 10\n",
    "        \n",
    "    if numero == soma:\n",
    "        print(numero, end=\"  \")"
   ]
  },
  {
   "cell_type": "code",
   "execution_count": null,
   "metadata": {},
   "outputs": [],
   "source": []
  }
 ],
 "metadata": {
  "kernelspec": {
   "display_name": "Python 3",
   "language": "python",
   "name": "python3"
  },
  "language_info": {
   "codemirror_mode": {
    "name": "ipython",
    "version": 3
   },
   "file_extension": ".py",
   "mimetype": "text/x-python",
   "name": "python",
   "nbconvert_exporter": "python",
   "pygments_lexer": "ipython3",
   "version": "3.7.3"
  }
 },
 "nbformat": 4,
 "nbformat_minor": 2
}
