{
 "cells": [
  {
   "cell_type": "code",
   "execution_count": 15,
   "metadata": {},
   "outputs": [
    {
     "name": "stdout",
     "output_type": "stream",
     "text": [
      "Digite o valor de a: 5\n",
      "Digite o valor de b: 4\n",
      "Digite o valor de c: 5\n",
      "==============================\n",
      "DELTA é igual a -84.0\n",
      "==============================\n",
      "Não possui raizes reais.\n"
     ]
    }
   ],
   "source": [
    "# EQUAÇÃO DO 2º GRAU\n",
    "import math\n",
    "a = float(input(\"Digite o valor de a: \"))\n",
    "b = float(input(\"Digite o valor de b: \"))\n",
    "c = float(input(\"Digite o valor de c: \"))\n",
    "\n",
    "print(\"=\" * 30)\n",
    "\n",
    "delta = (b ** 2) - 4 * a * c\n",
    "print(\"DELTA é igual a {}\".format(delta))\n",
    "\n",
    "print(\"=\" * 30)\n",
    "\n",
    "if delta < 0:\n",
    "    print(\"Não possui raizes reais.\")\n",
    "elif delta > 0:\n",
    "    x1 = (-b + math.sqrt(delta)) / (2 * a)\n",
    "    x2 = (-b - math.sqrt(delta)) / (2 * a)\n",
    "    print(\"As raizes são {} e {}\".format(x1, x2))\n",
    "else:\n",
    "    x = (-b) / (2 * a)\n",
    "    print(\"a raiz é {}\".format(x))"
   ]
  },
  {
   "cell_type": "code",
   "execution_count": null,
   "metadata": {},
   "outputs": [],
   "source": []
  }
 ],
 "metadata": {
  "kernelspec": {
   "display_name": "Python 3",
   "language": "python",
   "name": "python3"
  },
  "language_info": {
   "codemirror_mode": {
    "name": "ipython",
    "version": 3
   },
   "file_extension": ".py",
   "mimetype": "text/x-python",
   "name": "python",
   "nbconvert_exporter": "python",
   "pygments_lexer": "ipython3",
   "version": "3.7.3"
  }
 },
 "nbformat": 4,
 "nbformat_minor": 2
}
