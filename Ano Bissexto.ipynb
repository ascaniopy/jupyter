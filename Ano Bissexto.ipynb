{
 "cells": [
  {
   "cell_type": "code",
   "execution_count": 21,
   "metadata": {},
   "outputs": [
    {
     "name": "stdout",
     "output_type": "stream",
     "text": [
      "Digite o ano: 1992\n",
      "==============================\n",
      "O ano de 1992 é BISSEXTO.\n"
     ]
    }
   ],
   "source": [
    "ano = int(input(\"Digite o ano: \"))\n",
    "print(\"=\" * 30)\n",
    "if(ano % 4) == 0:\n",
    "    if(ano % 100) == 0:\n",
    "        if (ano % 400) == 0:\n",
    "            print(\"O ano de\", ano, \"é BISSEXTO.\")\n",
    "        else:\n",
    "            print(\"O ano de\", ano, \"NÃO é BISSEXTO.\")\n",
    "    else:\n",
    "        print(\"O ano de\", ano, \"é BISSEXTO.\")\n",
    "else:\n",
    "    print(\"O ano de\", ano, \"NÃO é BISSEXTO.\")"
   ]
  },
  {
   "cell_type": "code",
   "execution_count": null,
   "metadata": {},
   "outputs": [],
   "source": []
  }
 ],
 "metadata": {
  "kernelspec": {
   "display_name": "Python 3",
   "language": "python",
   "name": "python3"
  },
  "language_info": {
   "codemirror_mode": {
    "name": "ipython",
    "version": 3
   },
   "file_extension": ".py",
   "mimetype": "text/x-python",
   "name": "python",
   "nbconvert_exporter": "python",
   "pygments_lexer": "ipython3",
   "version": "3.7.3"
  }
 },
 "nbformat": 4,
 "nbformat_minor": 2
}
