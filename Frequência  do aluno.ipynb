{
 "cells": [
  {
   "cell_type": "code",
   "execution_count": 12,
   "metadata": {},
   "outputs": [
    {
     "name": "stdout",
     "output_type": "stream",
     "text": [
      "Digite a quantidade de aulas: 120\n",
      "Digite a quantidade de faltas: 60\n",
      "=================================\n",
      "A frequência é 50.00%\n"
     ]
    }
   ],
   "source": [
    "def formula(aulas, faltas):\n",
    "    formula = ((aulas - faltas) * 100) / aulas\n",
    "    return formula\n",
    "\n",
    "# aulas = 240\n",
    "aulas = int(input(\"Digite a quantidade de aulas: \"))\n",
    "faltas = int(input(\"Digite a quantidade de faltas: \"))\n",
    "\n",
    "print(\"=\" * 33)\n",
    "\n",
    "frequencia = formula(aulas, faltas)\n",
    "print(\"A frequência é {:.2f}%\".format(frequencia))"
   ]
  }
 ],
 "metadata": {
  "kernelspec": {
   "display_name": "Python 3",
   "language": "python",
   "name": "python3"
  },
  "language_info": {
   "codemirror_mode": {
    "name": "ipython",
    "version": 3
   },
   "file_extension": ".py",
   "mimetype": "text/x-python",
   "name": "python",
   "nbconvert_exporter": "python",
   "pygments_lexer": "ipython3",
   "version": "3.7.3"
  }
 },
 "nbformat": 4,
 "nbformat_minor": 2
}
