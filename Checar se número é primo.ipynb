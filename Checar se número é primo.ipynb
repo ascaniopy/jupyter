{
 "cells": [
  {
   "cell_type": "code",
   "execution_count": 5,
   "metadata": {},
   "outputs": [
    {
     "name": "stdout",
     "output_type": "stream",
     "text": [
      "Digite um número: 97\n",
      "====================\n",
      "O número 97 é PRIMO.\n"
     ]
    }
   ],
   "source": [
    "# CHECAR SE UM NÚMERO É PRIMO.\n",
    "n = int(input(\"Digite um número: \"))\n",
    "print(\"=\" * 20)\n",
    "if n > 1:\n",
    "    for i in range(2, n):\n",
    "        if (n % i) == 0:\n",
    "            print(\"O número\", n, \"não é PRIMO.\")\n",
    "            break\n",
    "    else:\n",
    "        print(\"O número\", n, \"é PRIMO.\")\n",
    "else:\n",
    "    print(\"O número\", n, \"não é PRIMO.\")\n",
    "    \n"
   ]
  },
  {
   "cell_type": "code",
   "execution_count": null,
   "metadata": {},
   "outputs": [],
   "source": []
  }
 ],
 "metadata": {
  "kernelspec": {
   "display_name": "Python 3",
   "language": "python",
   "name": "python3"
  },
  "language_info": {
   "codemirror_mode": {
    "name": "ipython",
    "version": 3
   },
   "file_extension": ".py",
   "mimetype": "text/x-python",
   "name": "python",
   "nbconvert_exporter": "python",
   "pygments_lexer": "ipython3",
   "version": "3.7.3"
  }
 },
 "nbformat": 4,
 "nbformat_minor": 2
}
