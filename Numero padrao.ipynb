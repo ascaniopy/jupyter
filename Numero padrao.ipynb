{
 "cells": [
  {
   "cell_type": "code",
   "execution_count": 16,
   "metadata": {},
   "outputs": [
    {
     "name": "stdout",
     "output_type": "stream",
     "text": [
      "1 \r\n",
      "2 2 \r\n",
      "3 3 3 \r\n",
      "4 4 4 4 \r\n",
      "5 5 5 5 5 \r\n"
     ]
    }
   ],
   "source": [
    "def padrao(n):\n",
    "    x = 0\n",
    "    for i in range(0, n):\n",
    "        x += 1\n",
    "        for j in range(0, i+1):\n",
    "            print(x, end=\" \")\n",
    "        print(\"\\r\")\n",
    "padrao(5)"
   ]
  },
  {
   "cell_type": "code",
   "execution_count": null,
   "metadata": {},
   "outputs": [],
   "source": []
  }
 ],
 "metadata": {
  "kernelspec": {
   "display_name": "Python 3",
   "language": "python",
   "name": "python3"
  },
  "language_info": {
   "codemirror_mode": {
    "name": "ipython",
    "version": 3
   },
   "file_extension": ".py",
   "mimetype": "text/x-python",
   "name": "python",
   "nbconvert_exporter": "python",
   "pygments_lexer": "ipython3",
   "version": "3.7.3"
  }
 },
 "nbformat": 4,
 "nbformat_minor": 2
}
