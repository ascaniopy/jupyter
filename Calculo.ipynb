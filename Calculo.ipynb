{
 "cells": [
  {
   "cell_type": "markdown",
   "metadata": {},
   "source": [
    "# Cálculo"
   ]
  },
  {
   "cell_type": "code",
   "execution_count": 1,
   "metadata": {},
   "outputs": [],
   "source": [
    "from sympy import *"
   ]
  },
  {
   "cell_type": "code",
   "execution_count": 2,
   "metadata": {},
   "outputs": [],
   "source": [
    "x = Symbol('x')"
   ]
  },
  {
   "cell_type": "markdown",
   "metadata": {},
   "source": [
    "DERIVADAS"
   ]
  },
  {
   "cell_type": "code",
   "execution_count": 3,
   "metadata": {},
   "outputs": [
    {
     "data": {
      "text/plain": [
       "x**2 + sin(x)"
      ]
     },
     "execution_count": 3,
     "metadata": {},
     "output_type": "execute_result"
    }
   ],
   "source": [
    "x**2 + sin(x)"
   ]
  },
  {
   "cell_type": "code",
   "execution_count": 9,
   "metadata": {},
   "outputs": [],
   "source": [
    "# Para arrumar a função.\n",
    "init_printing(pretty_print=True)"
   ]
  },
  {
   "cell_type": "code",
   "execution_count": 10,
   "metadata": {},
   "outputs": [
    {
     "data": {
      "text/latex": [
       "$$x^{2} + \\sin{\\left (x \\right )}$$"
      ],
      "text/plain": [
       " 2         \n",
       "x  + sin(x)"
      ]
     },
     "execution_count": 10,
     "metadata": {},
     "output_type": "execute_result"
    }
   ],
   "source": [
    "x**2 + sin(x)"
   ]
  },
  {
   "cell_type": "code",
   "execution_count": 12,
   "metadata": {},
   "outputs": [
    {
     "data": {
      "text/latex": [
       "$$2 x + \\cos{\\left (x \\right )}$$"
      ],
      "text/plain": [
       "2⋅x + cos(x)"
      ]
     },
     "execution_count": 12,
     "metadata": {},
     "output_type": "execute_result"
    }
   ],
   "source": [
    "# Para calcular a Derivada.\n",
    "(x**2 + sin(x)).diff(x)"
   ]
  },
  {
   "cell_type": "code",
   "execution_count": 13,
   "metadata": {},
   "outputs": [
    {
     "data": {
      "text/latex": [
       "$$- \\sin{\\left (x \\right )} + 2$$"
      ],
      "text/plain": [
       "-sin(x) + 2"
      ]
     },
     "execution_count": 13,
     "metadata": {},
     "output_type": "execute_result"
    }
   ],
   "source": [
    "# Para calcular a 2ª Derivada.\n",
    "(x**2 + sin(x)).diff(x,2)"
   ]
  },
  {
   "cell_type": "code",
   "execution_count": 14,
   "metadata": {},
   "outputs": [
    {
     "data": {
      "text/latex": [
       "$$\\frac{d}{d x} \\left(x^{2} + \\sin{\\left (x \\right )}\\right)$$"
      ],
      "text/plain": [
       "d ⎛ 2         ⎞\n",
       "──⎝x  + sin(x)⎠\n",
       "dx             "
      ]
     },
     "execution_count": 14,
     "metadata": {},
     "output_type": "execute_result"
    }
   ],
   "source": [
    "# Para ver a expressão arrumada.\n",
    "Derivative(x**2 + sin(x))"
   ]
  },
  {
   "cell_type": "code",
   "execution_count": 15,
   "metadata": {},
   "outputs": [
    {
     "data": {
      "text/latex": [
       "$$2 x + \\cos{\\left (x \\right )}$$"
      ],
      "text/plain": [
       "2⋅x + cos(x)"
      ]
     },
     "execution_count": 15,
     "metadata": {},
     "output_type": "execute_result"
    }
   ],
   "source": [
    "# Para calcular a Derivada.\n",
    "Derivative(x**2 + sin(x)).doit()"
   ]
  },
  {
   "cell_type": "markdown",
   "metadata": {},
   "source": [
    "INTEGRAL INDEFINIDA"
   ]
  },
  {
   "cell_type": "code",
   "execution_count": 16,
   "metadata": {},
   "outputs": [
    {
     "data": {
      "text/latex": [
       "$$\\frac{x^{3}}{3} - \\cos{\\left (x \\right )}$$"
      ],
      "text/plain": [
       " 3         \n",
       "x          \n",
       "── - cos(x)\n",
       "3          "
      ]
     },
     "execution_count": 16,
     "metadata": {},
     "output_type": "execute_result"
    }
   ],
   "source": [
    "# Para calcular a Integral.\n",
    "integrate(x**2 + sin(x))"
   ]
  },
  {
   "cell_type": "code",
   "execution_count": 18,
   "metadata": {},
   "outputs": [
    {
     "data": {
      "text/latex": [
       "$$\\int \\left(x^{2} + \\sin{\\left (x \\right )}\\right)\\, dx$$"
      ],
      "text/plain": [
       "⌠                 \n",
       "⎮ ⎛ 2         ⎞   \n",
       "⎮ ⎝x  + sin(x)⎠ dx\n",
       "⌡                 "
      ]
     },
     "execution_count": 18,
     "metadata": {},
     "output_type": "execute_result"
    }
   ],
   "source": [
    "# Integral antes de resolver.\n",
    "Integral(x**2 + sin(x))"
   ]
  },
  {
   "cell_type": "code",
   "execution_count": 21,
   "metadata": {},
   "outputs": [
    {
     "data": {
      "text/latex": [
       "$$\\frac{x^{3}}{3} - \\cos{\\left (x \\right )}$$"
      ],
      "text/plain": [
       " 3         \n",
       "x          \n",
       "── - cos(x)\n",
       "3          "
      ]
     },
     "execution_count": 21,
     "metadata": {},
     "output_type": "execute_result"
    }
   ],
   "source": [
    "# Para resolver a integral.\n",
    "Integral(x**2 + sin(x)).doit()"
   ]
  },
  {
   "cell_type": "code",
   "execution_count": 23,
   "metadata": {},
   "outputs": [
    {
     "data": {
      "text/latex": [
       "$$\\int \\left(x^{2} + e^{x} \\sin{\\left (x \\right )} + 2\\right)\\, dx$$"
      ],
      "text/plain": [
       "⌠                        \n",
       "⎮ ⎛ 2    x           ⎞   \n",
       "⎮ ⎝x  + ℯ ⋅sin(x) + 2⎠ dx\n",
       "⌡                        "
      ]
     },
     "execution_count": 23,
     "metadata": {},
     "output_type": "execute_result"
    }
   ],
   "source": [
    "# Integral antes de resolver arrumada.\n",
    "Integral(x**2 + 2 + sin(x) * exp(x))"
   ]
  },
  {
   "cell_type": "code",
   "execution_count": 25,
   "metadata": {},
   "outputs": [
    {
     "data": {
      "text/latex": [
       "$$\\frac{x^{3}}{3} + 2 x + \\frac{e^{x} \\sin{\\left (x \\right )}}{2} - \\frac{e^{x} \\cos{\\left (x \\right )}}{2}$$"
      ],
      "text/plain": [
       " 3          x           x       \n",
       "x          ℯ ⋅sin(x)   ℯ ⋅cos(x)\n",
       "── + 2⋅x + ───────── - ─────────\n",
       "3              2           2    "
      ]
     },
     "execution_count": 25,
     "metadata": {},
     "output_type": "execute_result"
    }
   ],
   "source": [
    "# Para resolver a Integral.\n",
    "Integral(x**2 + 2 + sin(x) * exp(x)).doit()"
   ]
  },
  {
   "cell_type": "markdown",
   "metadata": {},
   "source": [
    "INTEGRAL DEFINIDA"
   ]
  },
  {
   "cell_type": "code",
   "execution_count": 27,
   "metadata": {},
   "outputs": [
    {
     "data": {
      "text/latex": [
       "$$\\int_{0}^{2} \\left(x^{2} + e^{x} \\sin{\\left (x \\right )} + 2\\right)\\, dx$$"
      ],
      "text/plain": [
       "2                        \n",
       "⌠                        \n",
       "⎮ ⎛ 2    x           ⎞   \n",
       "⎮ ⎝x  + ℯ ⋅sin(x) + 2⎠ dx\n",
       "⌡                        \n",
       "0                        "
      ]
     },
     "execution_count": 27,
     "metadata": {},
     "output_type": "execute_result"
    }
   ],
   "source": [
    "# Integral definida antes de resolver arrumada.\n",
    "Integral(x**2 + 2 + sin(x) * exp(x),(x, 0, 2))"
   ]
  },
  {
   "cell_type": "code",
   "execution_count": 28,
   "metadata": {},
   "outputs": [
    {
     "data": {
      "text/latex": [
       "$$- \\frac{e^{2} \\cos{\\left (2 \\right )}}{2} + \\frac{e^{2} \\sin{\\left (2 \\right )}}{2} + \\frac{43}{6}$$"
      ],
      "text/plain": [
       "   2           2            \n",
       "  ℯ ⋅cos(2)   ℯ ⋅sin(2)   43\n",
       "- ───────── + ───────── + ──\n",
       "      2           2       6 "
      ]
     },
     "execution_count": 28,
     "metadata": {},
     "output_type": "execute_result"
    }
   ],
   "source": [
    "# Para resolver a Interal definida.\n",
    "Integral(x**2 + 2 + sin(x) * exp(x),(x, 0, 2)).doit()"
   ]
  },
  {
   "cell_type": "code",
   "execution_count": 35,
   "metadata": {},
   "outputs": [
    {
     "data": {
      "text/latex": [
       "$$12.06$$"
      ],
      "text/plain": [
       "12.06"
      ]
     },
     "execution_count": 35,
     "metadata": {},
     "output_type": "execute_result"
    }
   ],
   "source": [
    "# Resultado numéerico.\n",
    "Integral(x**2 + 2 + sin(x) * exp(x),(x, 0, 2)).doit().evalf(4)"
   ]
  },
  {
   "cell_type": "code",
   "execution_count": 31,
   "metadata": {},
   "outputs": [
    {
     "data": {
      "text/latex": [
       "$$\\infty$$"
      ],
      "text/plain": [
       "∞"
      ]
     },
     "execution_count": 31,
     "metadata": {},
     "output_type": "execute_result"
    }
   ],
   "source": [
    "# Símbolo do ifinito, digitar 2 ós.\n",
    "oo"
   ]
  },
  {
   "cell_type": "code",
   "execution_count": 32,
   "metadata": {},
   "outputs": [
    {
     "data": {
      "text/latex": [
       "$$-\\infty$$"
      ],
      "text/plain": [
       "-∞"
      ]
     },
     "execution_count": 32,
     "metadata": {},
     "output_type": "execute_result"
    }
   ],
   "source": [
    "-oo"
   ]
  }
 ],
 "metadata": {
  "kernelspec": {
   "display_name": "Python 3",
   "language": "python",
   "name": "python3"
  },
  "language_info": {
   "codemirror_mode": {
    "name": "ipython",
    "version": 3
   },
   "file_extension": ".py",
   "mimetype": "text/x-python",
   "name": "python",
   "nbconvert_exporter": "python",
   "pygments_lexer": "ipython3",
   "version": "3.7.3"
  }
 },
 "nbformat": 4,
 "nbformat_minor": 2
}
