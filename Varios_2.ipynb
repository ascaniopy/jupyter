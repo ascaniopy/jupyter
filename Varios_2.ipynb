{
 "cells": [
  {
   "cell_type": "code",
   "execution_count": 4,
   "metadata": {},
   "outputs": [
    {
     "name": "stdout",
     "output_type": "stream",
     "text": [
      "String reversa: yP aramâC oinâcsA\n"
     ]
    }
   ],
   "source": [
    "# Reverter uma string.\n",
    "string = \"Ascânio Câmara Py\"\n",
    "print(f\"String reversa: {string[::-1]}\")"
   ]
  },
  {
   "cell_type": "code",
   "execution_count": 6,
   "metadata": {},
   "outputs": [
    {
     "name": "stdout",
     "output_type": "stream",
     "text": [
      "FLUZÃO\n",
      "FLUZÃO\n",
      "FLUZÃO\n",
      "\n"
     ]
    }
   ],
   "source": [
    "print(\"FLUZÃO\\n\" * 3)"
   ]
  },
  {
   "cell_type": "code",
   "execution_count": 14,
   "metadata": {},
   "outputs": [
    {
     "name": "stdout",
     "output_type": "stream",
     "text": [
      "Antes: x = 15, y = 90\n",
      "Depois: x = 90, y = 15\n"
     ]
    }
   ],
   "source": [
    "# Trocar o valor de duas variáveis.\n",
    "x = 15\n",
    "y = 90\n",
    "print(f\"Antes: x = {x}, y = {y}\")\n",
    "\n",
    "x, y = y, x\n",
    "print(f\"Depois: x = {x}, y = {y}\")"
   ]
  },
  {
   "cell_type": "code",
   "execution_count": 15,
   "metadata": {},
   "outputs": [
    {
     "name": "stdout",
     "output_type": "stream",
     "text": [
      "Código = 201\n",
      "Nome = HTTP CREATED\n",
      "Erro = False\n"
     ]
    }
   ],
   "source": [
    "# Formatar strings.\n",
    "codigo, nome, erro = 201, \"HTTP CREATED\", False\n",
    "print(f\"Código = {codigo}\\nNome = {nome}\\nErro = {erro}\")"
   ]
  },
  {
   "cell_type": "code",
   "execution_count": 17,
   "metadata": {},
   "outputs": [
    {
     "data": {
      "text/plain": [
       "512"
      ]
     },
     "execution_count": 17,
     "metadata": {},
     "output_type": "execute_result"
    }
   ],
   "source": [
    "# Vai ficar 2 elevado a 8, depois vezes 2.\n",
    "a = 2\n",
    "a*2**8"
   ]
  },
  {
   "cell_type": "code",
   "execution_count": 20,
   "metadata": {},
   "outputs": [
    {
     "name": "stdout",
     "output_type": "stream",
     "text": [
      "﻿ESTOU APRENDENDO A LER\n",
      "ARQUIVOS ATRAVÉS\n",
      "DO JUPYTER NOTEBOOK.\n",
      "ISSO É MUITO LEGAL E\n",
      "EMOCIONANTE.\n"
     ]
    }
   ],
   "source": [
    "# Ler arquivos com uma linha de código.\n",
    "# Obs.: tem que ter o arquivo dados.txt na mesma pasta.\n",
    "arquivo = [linha.strip() for linha in open('dados.txt')]\n",
    "print(\"\\n\".join(arquivo))"
   ]
  }
 ],
 "metadata": {
  "kernelspec": {
   "display_name": "Python 3",
   "language": "python",
   "name": "python3"
  },
  "language_info": {
   "codemirror_mode": {
    "name": "ipython",
    "version": 3
   },
   "file_extension": ".py",
   "mimetype": "text/x-python",
   "name": "python",
   "nbconvert_exporter": "python",
   "pygments_lexer": "ipython3",
   "version": "3.7.3"
  }
 },
 "nbformat": 4,
 "nbformat_minor": 2
}
